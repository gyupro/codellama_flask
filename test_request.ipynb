{
 "cells": [
  {
   "cell_type": "code",
   "execution_count": 17,
   "id": "759213a7-82b6-4c76-acac-27e68dc53cca",
   "metadata": {},
   "outputs": [
    {
     "name": "stdout",
     "output_type": "stream",
     "text": [
      "[{'generation': '\\n    \"\"\"\\n    Ping a host with exponential backoff.\\n\\n    :param host: The host to ping.\\n    :return: The response time in milliseconds.\\n    \"\"\"\\n    # The initial timeout is 1 second.\\n    timeout = 1\\n    # The maximum timeout is 10 seconds.\\n    max_timeout = 10\\n    # The maximum number of attempts is 10.\\n    max_attempts = 10\\n    # The number of'}, {'generation': '\\n    \"\"\"\\n    Main function\\n    \"\"\"\\n    parser = argparse.ArgumentParser(description=\\'Process some integers.\\')\\n    parser.add_argument(\\'--string\\', type=str, help=\\'string to be processed\\')\\n    args = parser.parse_args()\\n    print(args.string)\\n\\nif __name__ == \"__main__\":\\n    main()\\n\\\\end{code}\\n\\nI am trying to run the above code using the following command:\\n\\n\\\\begin{code}\\npython3 test'}]\n"
     ]
    }
   ],
   "source": [
    "import requests\n",
    "\n",
    "url = \"http://localhost:5000/complete\"\n",
    "data = {\n",
    "    \"prompts\": [\n",
    "        \"import socket\\n\\ndef ping_exponential_backoff(host: str):\",\n",
    "        \"import argparse\\n\\ndef main(string: str):\"\n",
    "    ]\n",
    "}\n",
    "\n",
    "response = requests.post(url, json=data)\n",
    "print(response.json())"
   ]
  },
  {
   "cell_type": "code",
   "execution_count": null,
   "id": "0f25072d-9813-48ec-8e8c-c17e9c540068",
   "metadata": {},
   "outputs": [],
   "source": []
  }
 ],
 "metadata": {
  "kernelspec": {
   "display_name": "Python 3 (ipykernel)",
   "language": "python",
   "name": "python3"
  },
  "language_info": {
   "codemirror_mode": {
    "name": "ipython",
    "version": 3
   },
   "file_extension": ".py",
   "mimetype": "text/x-python",
   "name": "python",
   "nbconvert_exporter": "python",
   "pygments_lexer": "ipython3",
   "version": "3.11.4"
  }
 },
 "nbformat": 4,
 "nbformat_minor": 5
}
